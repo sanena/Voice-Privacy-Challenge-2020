{
 "cells": [
  {
   "cell_type": "code",
   "execution_count": 21,
   "metadata": {},
   "outputs": [
    {
     "name": "stdout",
     "output_type": "stream",
     "text": [
      "101\n",
      "101\n"
     ]
    }
   ],
   "source": [
    "trials_filename = '../corpora/test_utt_list_2/data/vctk_dev_trials_f/trials'\n",
    "scores_filename = '../exp/result/results-2024-01-02-15-43-10/ASV-vctk_dev_enrolls_anon-vctk_dev_trials_f_anon/scores'\n",
    "scores_file = open(scores_filename, 'r').readlines()\n",
    "trials_file = open(trials_filename, 'r').readlines()\n",
    "\n",
    "c_miss=1\n",
    "c_fa=1\n",
    "p_target=0.01\n",
    "\n",
    "\n",
    "scores = [] # 分数\n",
    "labels = [] # 由0和1组成\n",
    "\n",
    "trials = {}\n",
    "for line in trials_file:\n",
    "    utt1, utt2, target = line.rstrip().split()\n",
    "    trial = utt1 + \" \" + utt2\n",
    "    trials[trial] = target\n",
    "    \n",
    "for line in scores_file:\n",
    "    utt1, utt2, score = line.rstrip().split()\n",
    "    trial = utt1 + \" \" + utt2\n",
    "    if trial in trials:\n",
    "        scores.append(float(score))\n",
    "        if trials[trial] == \"target\":\n",
    "            labels.append(1)\n",
    "        else:\n",
    "            labels.append(0)\n",
    "    else:\n",
    "        raise Exception(\"Missing entry for \" + utt1 + \" and \" + utt2\n",
    "            + \" \" + scores_filename)\n",
    "        \n",
    "print(len(scores))\n",
    "print(len(labels))"
   ]
  },
  {
   "cell_type": "code",
   "execution_count": 22,
   "metadata": {},
   "outputs": [],
   "source": [
    "# compute error rates\n",
    "# input: scores, labels\n",
    "# output: fnrs, fprs, thresholds\n",
    "from operator import itemgetter\n",
    "\n",
    "\n",
    "# 创建假阴性率列表、假阳性率列表和给出这些误差率的判定阈值列表\n",
    "def ComputeErrorRates(scores, labels):\n",
    "    # sort the scores from smallest to largest, and also get the corresponding indexes of the sorted scores\n",
    "    # treat the sorted scores as the thresholds at which the error-rates are evaluated\n",
    "    # scores升序排序，将排序后的scores作为评估误差率的临界值\n",
    "    sorted_indexes, thresholds = zip(*sorted(\n",
    "        [(index, threshold) for index, threshold in enumerate(scores)],\n",
    "        key=itemgetter(1)\n",
    "    ))\n",
    "    \n",
    "    labels = [labels[i] for i in sorted_indexes]\n",
    "    fnrs = []\n",
    "    fprs = []\n",
    "\n",
    "    # 循环结束时，fnrs[i]是由于错误地拒绝了小于thresholds[i]的score而造成的错误数量\n",
    "    # fprs[i]是正确接受score大于thresholds[i]的总次数\n",
    "    for i in range(0, len(labels)):\n",
    "        if i == 0:\n",
    "            fnrs.append(labels[i])\n",
    "            fprs.append(1 - labels[i])\n",
    "        else:\n",
    "            fnrs.append(fnrs[i-1] + labels[i])\n",
    "            fprs.append(fprs[i-1] + 1 - labels[i])\n",
    "    fnrs_norm = sum(labels)\n",
    "    # print(f\"sum labels = {fnrs[len(labels) - 1]}, fnrs_norm={fnrs_norm}\")\n",
    "    # fnrs_norm = fnrs[len(lables) - 1]\n",
    "    # fnrs_norm统计的是labels中1的个数\n",
    "    # fprs_norm统计的是labels中0的个数\n",
    "    # fnrs[i]是指labels[0]~labels[1]中1的个数\n",
    "    fprs_norm = len(labels) - fnrs_norm\n",
    "    # false negative rates\n",
    "    fnrs = [x / float(fnrs_norm) for x in fnrs]\n",
    "\n",
    "    # Divide by the total number of corret positives to get the\n",
    "    # true positive rate.  Subtract these quantities from 1 to\n",
    "    # get the false positive rates.\n",
    "    # false positive rates\n",
    "    fprs = [1 - x / float(fprs_norm) for x in fprs]\n",
    "\n",
    "    print(f\"fnrs, len: {len(fnrs)}, type: {type(fnrs)}\")\n",
    "    print(f\"fprs, len: {len(fprs)}, type: {type(fprs)}\")\n",
    "    print(f\"thresholds, len: {len(thresholds)}, type: {type(thresholds)}\")\n",
    "    return fnrs, fprs, thresholds\n",
    "        "
   ]
  },
  {
   "cell_type": "code",
   "execution_count": 23,
   "metadata": {},
   "outputs": [],
   "source": [
    "# ComputeMinDcf\n",
    "# input: fnrs, fprs, thresholds, p_target, c_miss, c_fa\n",
    "# output:min_dcf, min_c_det_threshold\n",
    "# 计算检测成本函数的最小值\n",
    "def ComputeMinDcf(fnrs, fprs, thresholds, p_target, c_miss, c_fa):\n",
    "    min_c_det = float(\"inf\")\n",
    "    min_c_det_threshold = thresholds[0]\n",
    "    for i in range(0, len(fnrs)):\n",
    "        # See Equation (2).  it is a weighted sum of false negative\n",
    "        # and false positive errors.\n",
    "        c_det = c_miss * fnrs[i] * p_target + c_fa * fprs[i] * (1 - p_target)\n",
    "        if c_det < min_c_det:\n",
    "            min_c_det = c_det\n",
    "            min_c_det_threshold = thresholds[i]\n",
    "    # See Equations (3) and (4).  Now we normalize the cost.\n",
    "    c_def = min(c_miss * p_target, c_fa * (1 - p_target))\n",
    "    min_dcf = min_c_det / c_def\n",
    "\n",
    "    print(f\"min_dcf is {min_dcf}\")\n",
    "    print(f\"min_c_det_threshold is {min_c_det_threshold}\")\n",
    "    return min_dcf, min_c_det_threshold"
   ]
  },
  {
   "cell_type": "code",
   "execution_count": 24,
   "metadata": {},
   "outputs": [
    {
     "name": "stdout",
     "output_type": "stream",
     "text": [
      "sum labels = 34, fnrs_norm=34\n",
      "fnrs, len: 101, type: <class 'list'>\n",
      "fprs, len: 101, type: <class 'list'>\n",
      "thresholds, len: 101, type: <class 'tuple'>\n",
      "min_dcf is 0.11764705882352942\n",
      "min_c_det_threshold is 47.62333\n",
      "0.1176\n",
      "minDCF is 0.1176 at threshold 47.6233 (p-target=0.01, c-miss=1,c-fa=1)\n"
     ]
    }
   ],
   "source": [
    "fnrs, fprs, thresholds = ComputeErrorRates(scores, labels)\n",
    "mindcf, threshold = ComputeMinDcf(fnrs, fprs, thresholds, p_target,\n",
    "         c_miss, c_fa)\n",
    "\n",
    "print(\"{0:.4f}\".format(mindcf))\n",
    "print(\"minDCF is {0:.4f} at threshold {1:.4f} (p-target={2}, c-miss={3},\"\n",
    "    \"c-fa={4})\".format(mindcf, threshold, p_target,c_miss, c_fa))"
   ]
  },
  {
   "cell_type": "code",
   "execution_count": 3,
   "metadata": {},
   "outputs": [
    {
     "name": "stdout",
     "output_type": "stream",
     "text": [
      "inf\n"
     ]
    },
    {
     "data": {
      "text/plain": [
       "inf"
      ]
     },
     "execution_count": 3,
     "metadata": {},
     "output_type": "execute_result"
    }
   ],
   "source": [
    "import numpy\n",
    "# 无穷，浮点型，无确切值\n",
    "print(numpy.inf)\n",
    "type(numpy.inf)\n",
    "t = numpy.inf\n",
    "t"
   ]
  }
 ],
 "metadata": {
  "kernelspec": {
   "display_name": "vp",
   "language": "python",
   "name": "python3"
  },
  "language_info": {
   "codemirror_mode": {
    "name": "ipython",
    "version": 3
   },
   "file_extension": ".py",
   "mimetype": "text/x-python",
   "name": "python",
   "nbconvert_exporter": "python",
   "pygments_lexer": "ipython3",
   "version": "3.7.16"
  }
 },
 "nbformat": 4,
 "nbformat_minor": 2
}
