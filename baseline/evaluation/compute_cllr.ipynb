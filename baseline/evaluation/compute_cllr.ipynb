{
 "cells": [
  {
   "cell_type": "code",
   "execution_count": 10,
   "metadata": {},
   "outputs": [
    {
     "name": "stdout",
     "output_type": "stream",
     "text": [
      "(2, 61)\n",
      "(3, 76)\n"
     ]
    }
   ],
   "source": [
    "import pandas\n",
    "\n",
    "\n",
    "score_file=\"../exp/result/results-2024-01-04-15-33-43/ASV-vctk_test_enrolls-vctk_test_trials_m/scores\"\n",
    "key_file=\"../corpora/test_utt_list_2/data/vctk_test_trials_m/trials\"\n",
    "\n",
    "scr = pandas.read_csv(score_file, sep=' ', header=None).pivot_table(index=0, columns=1, values=2)\n",
    "key = pandas.read_csv(key_file, sep=' ', header=None).replace('nontarget', False).replace('target', True).pivot_table(index=0, columns=1, values=2)\n",
    "\n",
    "print(scr.shape)\n",
    "print(key.shape)"
   ]
  },
  {
   "cell_type": "code",
   "execution_count": null,
   "metadata": {},
   "outputs": [],
   "source": [
    "cllr_act = cllr(tar, non)"
   ]
  }
 ],
 "metadata": {
  "kernelspec": {
   "display_name": "vp",
   "language": "python",
   "name": "python3"
  },
  "language_info": {
   "codemirror_mode": {
    "name": "ipython",
    "version": 3
   },
   "file_extension": ".py",
   "mimetype": "text/x-python",
   "name": "python",
   "nbconvert_exporter": "python",
   "pygments_lexer": "ipython3",
   "version": "3.7.16"
  }
 },
 "nbformat": 4,
 "nbformat_minor": 2
}
